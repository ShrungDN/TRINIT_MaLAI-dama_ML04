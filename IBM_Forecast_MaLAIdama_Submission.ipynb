{
  "nbformat": 4,
  "nbformat_minor": 0,
  "metadata": {
    "colab": {
      "name": "IBM_Forecast_MaLAIdama_Submission.ipynb",
      "provenance": []
    },
    "kernelspec": {
      "name": "python3",
      "display_name": "Python 3"
    },
    "language_info": {
      "name": "python"
    }
  },
  "cells": [
    {
      "cell_type": "code",
      "source": [
        "import numpy as np\n",
        "import pandas as pd\n",
        "import matplotlib.pyplot as plt\n",
        "from matplotlib import style\n",
        "from matplotlib import pyplot\n",
        "from math import sqrt\n",
        "from sklearn.preprocessing import MinMaxScaler\n",
        "from sklearn.preprocessing import MinMaxScaler as scaler\n",
        "from sklearn.metrics import mean_squared_error\n",
        "from sklearn.metrics import mean_absolute_error\n",
        "from keras.models import Sequential\n",
        "from keras.layers import Dense\n",
        "from keras.layers import LSTM\n",
        "from keras.layers.core import Dense, Activation, Dropout\n",
        "from keras.layers.recurrent import LSTM\n",
        "from keras.models import Sequential\n",
        "%matplotlib inline"
      ],
      "metadata": {
        "id": "HlxdamyEhbBU"
      },
      "execution_count": null,
      "outputs": []
    },
    {
      "cell_type": "markdown",
      "source": [
        "Getting and cleaning data\n"
      ],
      "metadata": {
        "id": "M9GakLAQhQxq"
      }
    },
    {
      "cell_type": "code",
      "source": [
        "df1 = pd.read_csv('/content/drive/MyDrive/daily_IBM_withscaledOBVandClosed - daily_IBM (1).csv')\n",
        "\n",
        "# The used csv file is in the github repo\n",
        "# This csv file has been preprocessed using Google Sheets and relevant formulas for RSI and OBV as mentioned in the presentation"
      ],
      "metadata": {
        "id": "ANYMHknrjGTN"
      },
      "execution_count": null,
      "outputs": []
    },
    {
      "cell_type": "code",
      "source": [
        "df1['timestamp']=pd.to_datetime(df1['timestamp'],errors='coerce')\n",
        "df1.set_index('timestamp', inplace=True)\n",
        "df1.head()"
      ],
      "metadata": {
        "colab": {
          "base_uri": "https://localhost:8080/",
          "height": 238
        },
        "id": "1ZNjGT2-Ff4s",
        "outputId": "1774c68e-6e9b-4b47-ab66-b855dac95a85"
      },
      "execution_count": null,
      "outputs": [
        {
          "output_type": "execute_result",
          "data": {
            "text/html": [
              "\n",
              "  <div id=\"df-0223930c-65ae-424b-bea4-ae41f51aa5be\">\n",
              "    <div class=\"colab-df-container\">\n",
              "      <div>\n",
              "<style scoped>\n",
              "    .dataframe tbody tr th:only-of-type {\n",
              "        vertical-align: middle;\n",
              "    }\n",
              "\n",
              "    .dataframe tbody tr th {\n",
              "        vertical-align: top;\n",
              "    }\n",
              "\n",
              "    .dataframe thead th {\n",
              "        text-align: right;\n",
              "    }\n",
              "</style>\n",
              "<table border=\"1\" class=\"dataframe\">\n",
              "  <thead>\n",
              "    <tr style=\"text-align: right;\">\n",
              "      <th></th>\n",
              "      <th>open</th>\n",
              "      <th>high</th>\n",
              "      <th>low</th>\n",
              "      <th>close</th>\n",
              "      <th>volume</th>\n",
              "      <th>OBV</th>\n",
              "      <th>closescaled</th>\n",
              "      <th>OBVscaled</th>\n",
              "      <th>Y_value</th>\n",
              "    </tr>\n",
              "    <tr>\n",
              "      <th>timestamp</th>\n",
              "      <th></th>\n",
              "      <th></th>\n",
              "      <th></th>\n",
              "      <th></th>\n",
              "      <th></th>\n",
              "      <th></th>\n",
              "      <th></th>\n",
              "      <th></th>\n",
              "      <th></th>\n",
              "    </tr>\n",
              "  </thead>\n",
              "  <tbody>\n",
              "    <tr>\n",
              "      <th>2022-01-28</th>\n",
              "      <td>133.19</td>\n",
              "      <td>134.5300</td>\n",
              "      <td>131.790</td>\n",
              "      <td>134.50</td>\n",
              "      <td>5471497</td>\n",
              "      <td>1004602994</td>\n",
              "      <td>0.494183</td>\n",
              "      <td>0.519423</td>\n",
              "      <td>0.000000</td>\n",
              "    </tr>\n",
              "    <tr>\n",
              "      <th>2022-01-27</th>\n",
              "      <td>133.66</td>\n",
              "      <td>134.7500</td>\n",
              "      <td>132.080</td>\n",
              "      <td>132.52</td>\n",
              "      <td>5499566</td>\n",
              "      <td>999131497</td>\n",
              "      <td>0.481864</td>\n",
              "      <td>0.508160</td>\n",
              "      <td>0.494183</td>\n",
              "    </tr>\n",
              "    <tr>\n",
              "      <th>2022-01-26</th>\n",
              "      <td>136.47</td>\n",
              "      <td>137.0700</td>\n",
              "      <td>133.130</td>\n",
              "      <td>134.26</td>\n",
              "      <td>8335992</td>\n",
              "      <td>1004631063</td>\n",
              "      <td>0.492690</td>\n",
              "      <td>0.519481</td>\n",
              "      <td>0.481864</td>\n",
              "    </tr>\n",
              "    <tr>\n",
              "      <th>2022-01-25</th>\n",
              "      <td>129.14</td>\n",
              "      <td>137.3361</td>\n",
              "      <td>128.300</td>\n",
              "      <td>136.10</td>\n",
              "      <td>19715698</td>\n",
              "      <td>1012967055</td>\n",
              "      <td>0.504137</td>\n",
              "      <td>0.536639</td>\n",
              "      <td>0.492690</td>\n",
              "    </tr>\n",
              "    <tr>\n",
              "      <th>2022-01-24</th>\n",
              "      <td>127.99</td>\n",
              "      <td>129.1500</td>\n",
              "      <td>124.193</td>\n",
              "      <td>128.82</td>\n",
              "      <td>13777648</td>\n",
              "      <td>993251357</td>\n",
              "      <td>0.458844</td>\n",
              "      <td>0.496057</td>\n",
              "      <td>0.504137</td>\n",
              "    </tr>\n",
              "  </tbody>\n",
              "</table>\n",
              "</div>\n",
              "      <button class=\"colab-df-convert\" onclick=\"convertToInteractive('df-0223930c-65ae-424b-bea4-ae41f51aa5be')\"\n",
              "              title=\"Convert this dataframe to an interactive table.\"\n",
              "              style=\"display:none;\">\n",
              "        \n",
              "  <svg xmlns=\"http://www.w3.org/2000/svg\" height=\"24px\"viewBox=\"0 0 24 24\"\n",
              "       width=\"24px\">\n",
              "    <path d=\"M0 0h24v24H0V0z\" fill=\"none\"/>\n",
              "    <path d=\"M18.56 5.44l.94 2.06.94-2.06 2.06-.94-2.06-.94-.94-2.06-.94 2.06-2.06.94zm-11 1L8.5 8.5l.94-2.06 2.06-.94-2.06-.94L8.5 2.5l-.94 2.06-2.06.94zm10 10l.94 2.06.94-2.06 2.06-.94-2.06-.94-.94-2.06-.94 2.06-2.06.94z\"/><path d=\"M17.41 7.96l-1.37-1.37c-.4-.4-.92-.59-1.43-.59-.52 0-1.04.2-1.43.59L10.3 9.45l-7.72 7.72c-.78.78-.78 2.05 0 2.83L4 21.41c.39.39.9.59 1.41.59.51 0 1.02-.2 1.41-.59l7.78-7.78 2.81-2.81c.8-.78.8-2.07 0-2.86zM5.41 20L4 18.59l7.72-7.72 1.47 1.35L5.41 20z\"/>\n",
              "  </svg>\n",
              "      </button>\n",
              "      \n",
              "  <style>\n",
              "    .colab-df-container {\n",
              "      display:flex;\n",
              "      flex-wrap:wrap;\n",
              "      gap: 12px;\n",
              "    }\n",
              "\n",
              "    .colab-df-convert {\n",
              "      background-color: #E8F0FE;\n",
              "      border: none;\n",
              "      border-radius: 50%;\n",
              "      cursor: pointer;\n",
              "      display: none;\n",
              "      fill: #1967D2;\n",
              "      height: 32px;\n",
              "      padding: 0 0 0 0;\n",
              "      width: 32px;\n",
              "    }\n",
              "\n",
              "    .colab-df-convert:hover {\n",
              "      background-color: #E2EBFA;\n",
              "      box-shadow: 0px 1px 2px rgba(60, 64, 67, 0.3), 0px 1px 3px 1px rgba(60, 64, 67, 0.15);\n",
              "      fill: #174EA6;\n",
              "    }\n",
              "\n",
              "    [theme=dark] .colab-df-convert {\n",
              "      background-color: #3B4455;\n",
              "      fill: #D2E3FC;\n",
              "    }\n",
              "\n",
              "    [theme=dark] .colab-df-convert:hover {\n",
              "      background-color: #434B5C;\n",
              "      box-shadow: 0px 1px 3px 1px rgba(0, 0, 0, 0.15);\n",
              "      filter: drop-shadow(0px 1px 2px rgba(0, 0, 0, 0.3));\n",
              "      fill: #FFFFFF;\n",
              "    }\n",
              "  </style>\n",
              "\n",
              "      <script>\n",
              "        const buttonEl =\n",
              "          document.querySelector('#df-0223930c-65ae-424b-bea4-ae41f51aa5be button.colab-df-convert');\n",
              "        buttonEl.style.display =\n",
              "          google.colab.kernel.accessAllowed ? 'block' : 'none';\n",
              "\n",
              "        async function convertToInteractive(key) {\n",
              "          const element = document.querySelector('#df-0223930c-65ae-424b-bea4-ae41f51aa5be');\n",
              "          const dataTable =\n",
              "            await google.colab.kernel.invokeFunction('convertToInteractive',\n",
              "                                                     [key], {});\n",
              "          if (!dataTable) return;\n",
              "\n",
              "          const docLinkHtml = 'Like what you see? Visit the ' +\n",
              "            '<a target=\"_blank\" href=https://colab.research.google.com/notebooks/data_table.ipynb>data table notebook</a>'\n",
              "            + ' to learn more about interactive tables.';\n",
              "          element.innerHTML = '';\n",
              "          dataTable['output_type'] = 'display_data';\n",
              "          await google.colab.output.renderOutput(dataTable, element);\n",
              "          const docLink = document.createElement('div');\n",
              "          docLink.innerHTML = docLinkHtml;\n",
              "          element.appendChild(docLink);\n",
              "        }\n",
              "      </script>\n",
              "    </div>\n",
              "  </div>\n",
              "  "
            ],
            "text/plain": [
              "              open      high      low  ...  closescaled  OBVscaled   Y_value\n",
              "timestamp                              ...                                  \n",
              "2022-01-28  133.19  134.5300  131.790  ...     0.494183   0.519423  0.000000\n",
              "2022-01-27  133.66  134.7500  132.080  ...     0.481864   0.508160  0.494183\n",
              "2022-01-26  136.47  137.0700  133.130  ...     0.492690   0.519481  0.481864\n",
              "2022-01-25  129.14  137.3361  128.300  ...     0.504137   0.536639  0.492690\n",
              "2022-01-24  127.99  129.1500  124.193  ...     0.458844   0.496057  0.504137\n",
              "\n",
              "[5 rows x 9 columns]"
            ]
          },
          "metadata": {},
          "execution_count": 3
        }
      ]
    },
    {
      "cell_type": "code",
      "source": [
        "def get_RSI(relevant_data, input_date_index):\n",
        "  gain = 0\n",
        "  loss = 0\n",
        "  i = relevant_data['close'].iloc[0]\n",
        "  for j in relevant_data['close'][1:15]:\n",
        "    if j > i:\n",
        "      loss += (j-i)/j\n",
        "      #print(100*(-j+i)/j)\n",
        "    if j < i:\n",
        "      gain += (i-j)/j\n",
        "    i = j\n",
        "  RSI = 1-(1/(1+(gain/loss)))\n",
        "  return RSI\n",
        "df1['RSI'] = df1['close']\n",
        "for i in range(len(df1)-18):\n",
        "  df1['RSI'].iloc[i] = get_RSI(df1.iloc[i:i+15], i)"
      ],
      "metadata": {
        "colab": {
          "base_uri": "https://localhost:8080/"
        },
        "id": "2s1W4as-NHLd",
        "outputId": "dd937b48-802b-4c5e-b818-30e07f069834"
      },
      "execution_count": null,
      "outputs": [
        {
          "output_type": "stream",
          "name": "stderr",
          "text": [
            "/usr/local/lib/python3.7/dist-packages/pandas/core/indexing.py:670: SettingWithCopyWarning: \n",
            "A value is trying to be set on a copy of a slice from a DataFrame\n",
            "\n",
            "See the caveats in the documentation: https://pandas.pydata.org/pandas-docs/stable/user_guide/indexing.html#returning-a-view-versus-a-copy\n",
            "  iloc._setitem_with_indexer(indexer, value)\n"
          ]
        }
      ]
    },
    {
      "cell_type": "code",
      "source": [
        "df2 = df1[:-20]\n",
        "df2 = df2.drop(df2.columns[[0,1,2,3,4,5]], axis=1)\n",
        "df2.to_csv(\"referencedfIBM.csv\")"
      ],
      "metadata": {
        "id": "qVKXzYEJPtIY"
      },
      "execution_count": null,
      "outputs": []
    },
    {
      "cell_type": "markdown",
      "source": [
        "Making train and test data"
      ],
      "metadata": {
        "id": "2daRQA04i3qJ"
      }
    },
    {
      "cell_type": "code",
      "source": [
        "scaler = MinMaxScaler()\n",
        "X=scaler.fit_transform(df2[['closescaled', 'OBVscaled','RSI']])\n",
        "y=scaler.fit_transform(df2[['Y_value']])"
      ],
      "metadata": {
        "id": "P2O0EC4vRNaH"
      },
      "execution_count": null,
      "outputs": []
    },
    {
      "cell_type": "code",
      "source": [
        "X"
      ],
      "metadata": {
        "colab": {
          "base_uri": "https://localhost:8080/"
        },
        "id": "f9T9RzC7-TJ5",
        "outputId": "936f1cb7-1931-4f90-ae09-5ec817bb5c76"
      },
      "execution_count": null,
      "outputs": [
        {
          "output_type": "execute_result",
          "data": {
            "text/plain": [
              "array([[0.49418279, 0.51942283, 0.50297635],\n",
              "       [0.481864  , 0.50816031, 0.44522067],\n",
              "       [0.4926896 , 0.51948061, 0.42473475],\n",
              "       ...,\n",
              "       [0.31232502, 0.36579366, 0.70831637],\n",
              "       [0.30081503, 0.3529968 , 0.63326905],\n",
              "       [0.29857525, 0.34201236, 0.67413928]])"
            ]
          },
          "metadata": {},
          "execution_count": 56
        }
      ]
    },
    {
      "cell_type": "code",
      "source": [
        "train_size = int(len(X) * 0.80)\n",
        "test_size = len(X) - train_size\n",
        "train_X, test_X = X[0:train_size,:], X[train_size:len(X),:]\n",
        "train_y, test_y = y[0:train_size,:], y[train_size:len(y),:]\n",
        "print(len(train_X), len(test_X))\n",
        "print(len(train_y),len(test_y))"
      ],
      "metadata": {
        "colab": {
          "base_uri": "https://localhost:8080/"
        },
        "id": "kMR1Pv1JRmrT",
        "outputId": "56305b07-afd7-4958-f3fd-9c186186f22d"
      },
      "execution_count": null,
      "outputs": [
        {
          "output_type": "stream",
          "name": "stdout",
          "text": [
            "4462 1116\n",
            "4462 1116\n"
          ]
        }
      ]
    },
    {
      "cell_type": "code",
      "source": [
        "train_X = train_X.reshape((train_X.shape[0], 1, train_X.shape[1]))\n",
        "test_X = test_X.reshape((test_X.shape[0], 1, test_X.shape[1]))\n",
        "print(train_X.shape, train_y.shape, test_X.shape, test_y.shape)"
      ],
      "metadata": {
        "colab": {
          "base_uri": "https://localhost:8080/"
        },
        "id": "oUY1zYRYR7_t",
        "outputId": "d41d0fc3-698f-49f4-99f0-31baf2dd5d9f"
      },
      "execution_count": null,
      "outputs": [
        {
          "output_type": "stream",
          "name": "stdout",
          "text": [
            "(4462, 1, 3) (4462, 1) (1116, 1, 3) (1116, 1)\n"
          ]
        }
      ]
    },
    {
      "cell_type": "markdown",
      "source": [
        "Model"
      ],
      "metadata": {
        "id": "B2V5hSN1jBxC"
      }
    },
    {
      "cell_type": "code",
      "source": [
        "# design network\n",
        "model = Sequential()\n",
        "model.add(LSTM(50, input_shape=(train_X.shape[1], train_X.shape[2])))\n",
        "model.add(Dense(1))\n",
        "model.compile(loss='mae', optimizer='adam')\n",
        "# fit network\n",
        "history = model.fit(train_X, train_y, epochs=150, batch_size=32, validation_data=(test_X, test_y), verbose=2, shuffle=False)"
      ],
      "metadata": {
        "colab": {
          "base_uri": "https://localhost:8080/"
        },
        "id": "sd9fRuHOR8CV",
        "outputId": "81ac327a-460e-492a-9361-c80d9af89aee"
      },
      "execution_count": null,
      "outputs": [
        {
          "output_type": "stream",
          "name": "stdout",
          "text": [
            "Epoch 1/150\n",
            "140/140 - 3s - loss: 0.2482 - val_loss: 0.0690 - 3s/epoch - 22ms/step\n",
            "Epoch 2/150\n",
            "140/140 - 0s - loss: 0.0941 - val_loss: 0.0701 - 414ms/epoch - 3ms/step\n",
            "Epoch 3/150\n",
            "140/140 - 0s - loss: 0.0881 - val_loss: 0.0660 - 439ms/epoch - 3ms/step\n",
            "Epoch 4/150\n",
            "140/140 - 0s - loss: 0.0829 - val_loss: 0.0635 - 435ms/epoch - 3ms/step\n",
            "Epoch 5/150\n",
            "140/140 - 0s - loss: 0.0802 - val_loss: 0.0617 - 410ms/epoch - 3ms/step\n",
            "Epoch 6/150\n",
            "140/140 - 0s - loss: 0.0776 - val_loss: 0.0603 - 416ms/epoch - 3ms/step\n",
            "Epoch 7/150\n",
            "140/140 - 0s - loss: 0.0745 - val_loss: 0.0581 - 399ms/epoch - 3ms/step\n",
            "Epoch 8/150\n",
            "140/140 - 0s - loss: 0.0715 - val_loss: 0.0560 - 380ms/epoch - 3ms/step\n",
            "Epoch 9/150\n",
            "140/140 - 0s - loss: 0.0678 - val_loss: 0.0552 - 391ms/epoch - 3ms/step\n",
            "Epoch 10/150\n",
            "140/140 - 0s - loss: 0.0639 - val_loss: 0.0541 - 377ms/epoch - 3ms/step\n",
            "Epoch 11/150\n",
            "140/140 - 0s - loss: 0.0597 - val_loss: 0.0524 - 410ms/epoch - 3ms/step\n",
            "Epoch 12/150\n",
            "140/140 - 0s - loss: 0.0547 - val_loss: 0.0515 - 401ms/epoch - 3ms/step\n",
            "Epoch 13/150\n",
            "140/140 - 0s - loss: 0.0497 - val_loss: 0.0493 - 400ms/epoch - 3ms/step\n",
            "Epoch 14/150\n",
            "140/140 - 0s - loss: 0.0452 - val_loss: 0.0464 - 411ms/epoch - 3ms/step\n",
            "Epoch 15/150\n",
            "140/140 - 0s - loss: 0.0415 - val_loss: 0.0438 - 402ms/epoch - 3ms/step\n",
            "Epoch 16/150\n",
            "140/140 - 0s - loss: 0.0383 - val_loss: 0.0412 - 389ms/epoch - 3ms/step\n",
            "Epoch 17/150\n",
            "140/140 - 0s - loss: 0.0358 - val_loss: 0.0375 - 404ms/epoch - 3ms/step\n",
            "Epoch 18/150\n",
            "140/140 - 0s - loss: 0.0332 - val_loss: 0.0355 - 417ms/epoch - 3ms/step\n",
            "Epoch 19/150\n",
            "140/140 - 0s - loss: 0.0318 - val_loss: 0.0335 - 423ms/epoch - 3ms/step\n",
            "Epoch 20/150\n",
            "140/140 - 0s - loss: 0.0311 - val_loss: 0.0308 - 398ms/epoch - 3ms/step\n",
            "Epoch 21/150\n",
            "140/140 - 0s - loss: 0.0304 - val_loss: 0.0290 - 416ms/epoch - 3ms/step\n",
            "Epoch 22/150\n",
            "140/140 - 0s - loss: 0.0295 - val_loss: 0.0276 - 433ms/epoch - 3ms/step\n",
            "Epoch 23/150\n",
            "140/140 - 0s - loss: 0.0287 - val_loss: 0.0260 - 430ms/epoch - 3ms/step\n",
            "Epoch 24/150\n",
            "140/140 - 0s - loss: 0.0275 - val_loss: 0.0254 - 392ms/epoch - 3ms/step\n",
            "Epoch 25/150\n",
            "140/140 - 0s - loss: 0.0265 - val_loss: 0.0241 - 395ms/epoch - 3ms/step\n",
            "Epoch 26/150\n",
            "140/140 - 0s - loss: 0.0255 - val_loss: 0.0236 - 392ms/epoch - 3ms/step\n",
            "Epoch 27/150\n",
            "140/140 - 0s - loss: 0.0245 - val_loss: 0.0225 - 400ms/epoch - 3ms/step\n",
            "Epoch 28/150\n",
            "140/140 - 0s - loss: 0.0237 - val_loss: 0.0209 - 419ms/epoch - 3ms/step\n",
            "Epoch 29/150\n",
            "140/140 - 0s - loss: 0.0224 - val_loss: 0.0210 - 419ms/epoch - 3ms/step\n",
            "Epoch 30/150\n",
            "140/140 - 0s - loss: 0.0212 - val_loss: 0.0211 - 412ms/epoch - 3ms/step\n",
            "Epoch 31/150\n",
            "140/140 - 0s - loss: 0.0201 - val_loss: 0.0201 - 411ms/epoch - 3ms/step\n",
            "Epoch 32/150\n",
            "140/140 - 0s - loss: 0.0191 - val_loss: 0.0194 - 399ms/epoch - 3ms/step\n",
            "Epoch 33/150\n",
            "140/140 - 0s - loss: 0.0181 - val_loss: 0.0191 - 441ms/epoch - 3ms/step\n",
            "Epoch 34/150\n",
            "140/140 - 0s - loss: 0.0172 - val_loss: 0.0190 - 410ms/epoch - 3ms/step\n",
            "Epoch 35/150\n",
            "140/140 - 0s - loss: 0.0165 - val_loss: 0.0184 - 428ms/epoch - 3ms/step\n",
            "Epoch 36/150\n",
            "140/140 - 0s - loss: 0.0157 - val_loss: 0.0187 - 411ms/epoch - 3ms/step\n",
            "Epoch 37/150\n",
            "140/140 - 0s - loss: 0.0151 - val_loss: 0.0184 - 423ms/epoch - 3ms/step\n",
            "Epoch 38/150\n",
            "140/140 - 0s - loss: 0.0145 - val_loss: 0.0174 - 396ms/epoch - 3ms/step\n",
            "Epoch 39/150\n",
            "140/140 - 0s - loss: 0.0140 - val_loss: 0.0167 - 397ms/epoch - 3ms/step\n",
            "Epoch 40/150\n",
            "140/140 - 0s - loss: 0.0139 - val_loss: 0.0150 - 397ms/epoch - 3ms/step\n",
            "Epoch 41/150\n",
            "140/140 - 0s - loss: 0.0137 - val_loss: 0.0134 - 385ms/epoch - 3ms/step\n",
            "Epoch 42/150\n",
            "140/140 - 0s - loss: 0.0138 - val_loss: 0.0127 - 424ms/epoch - 3ms/step\n",
            "Epoch 43/150\n",
            "140/140 - 0s - loss: 0.0139 - val_loss: 0.0115 - 408ms/epoch - 3ms/step\n",
            "Epoch 44/150\n",
            "140/140 - 0s - loss: 0.0141 - val_loss: 0.0110 - 422ms/epoch - 3ms/step\n",
            "Epoch 45/150\n",
            "140/140 - 0s - loss: 0.0143 - val_loss: 0.0107 - 400ms/epoch - 3ms/step\n",
            "Epoch 46/150\n",
            "140/140 - 0s - loss: 0.0146 - val_loss: 0.0107 - 474ms/epoch - 3ms/step\n",
            "Epoch 47/150\n",
            "140/140 - 0s - loss: 0.0148 - val_loss: 0.0106 - 431ms/epoch - 3ms/step\n",
            "Epoch 48/150\n",
            "140/140 - 0s - loss: 0.0151 - val_loss: 0.0106 - 408ms/epoch - 3ms/step\n",
            "Epoch 49/150\n",
            "140/140 - 0s - loss: 0.0155 - val_loss: 0.0106 - 435ms/epoch - 3ms/step\n",
            "Epoch 50/150\n",
            "140/140 - 0s - loss: 0.0158 - val_loss: 0.0107 - 413ms/epoch - 3ms/step\n",
            "Epoch 51/150\n",
            "140/140 - 0s - loss: 0.0160 - val_loss: 0.0113 - 400ms/epoch - 3ms/step\n",
            "Epoch 52/150\n",
            "140/140 - 0s - loss: 0.0162 - val_loss: 0.0122 - 427ms/epoch - 3ms/step\n",
            "Epoch 53/150\n",
            "140/140 - 0s - loss: 0.0163 - val_loss: 0.0132 - 415ms/epoch - 3ms/step\n",
            "Epoch 54/150\n",
            "140/140 - 0s - loss: 0.0166 - val_loss: 0.0142 - 477ms/epoch - 3ms/step\n",
            "Epoch 55/150\n",
            "140/140 - 0s - loss: 0.0166 - val_loss: 0.0144 - 409ms/epoch - 3ms/step\n",
            "Epoch 56/150\n",
            "140/140 - 0s - loss: 0.0169 - val_loss: 0.0154 - 391ms/epoch - 3ms/step\n",
            "Epoch 57/150\n",
            "140/140 - 0s - loss: 0.0170 - val_loss: 0.0157 - 393ms/epoch - 3ms/step\n",
            "Epoch 58/150\n",
            "140/140 - 0s - loss: 0.0169 - val_loss: 0.0158 - 396ms/epoch - 3ms/step\n",
            "Epoch 59/150\n",
            "140/140 - 0s - loss: 0.0168 - val_loss: 0.0159 - 402ms/epoch - 3ms/step\n",
            "Epoch 60/150\n",
            "140/140 - 0s - loss: 0.0168 - val_loss: 0.0156 - 398ms/epoch - 3ms/step\n",
            "Epoch 61/150\n",
            "140/140 - 0s - loss: 0.0169 - val_loss: 0.0157 - 410ms/epoch - 3ms/step\n",
            "Epoch 62/150\n",
            "140/140 - 0s - loss: 0.0169 - val_loss: 0.0155 - 411ms/epoch - 3ms/step\n",
            "Epoch 63/150\n",
            "140/140 - 0s - loss: 0.0168 - val_loss: 0.0158 - 379ms/epoch - 3ms/step\n",
            "Epoch 64/150\n",
            "140/140 - 0s - loss: 0.0166 - val_loss: 0.0155 - 398ms/epoch - 3ms/step\n",
            "Epoch 65/150\n",
            "140/140 - 0s - loss: 0.0167 - val_loss: 0.0159 - 403ms/epoch - 3ms/step\n",
            "Epoch 66/150\n",
            "140/140 - 0s - loss: 0.0167 - val_loss: 0.0159 - 422ms/epoch - 3ms/step\n",
            "Epoch 67/150\n",
            "140/140 - 0s - loss: 0.0166 - val_loss: 0.0161 - 415ms/epoch - 3ms/step\n",
            "Epoch 68/150\n",
            "140/140 - 0s - loss: 0.0165 - val_loss: 0.0154 - 413ms/epoch - 3ms/step\n",
            "Epoch 69/150\n",
            "140/140 - 0s - loss: 0.0163 - val_loss: 0.0152 - 423ms/epoch - 3ms/step\n",
            "Epoch 70/150\n",
            "140/140 - 0s - loss: 0.0163 - val_loss: 0.0152 - 405ms/epoch - 3ms/step\n",
            "Epoch 71/150\n",
            "140/140 - 0s - loss: 0.0163 - val_loss: 0.0152 - 401ms/epoch - 3ms/step\n",
            "Epoch 72/150\n",
            "140/140 - 0s - loss: 0.0161 - val_loss: 0.0153 - 406ms/epoch - 3ms/step\n",
            "Epoch 73/150\n",
            "140/140 - 0s - loss: 0.0160 - val_loss: 0.0153 - 379ms/epoch - 3ms/step\n",
            "Epoch 74/150\n",
            "140/140 - 0s - loss: 0.0159 - val_loss: 0.0157 - 425ms/epoch - 3ms/step\n",
            "Epoch 75/150\n",
            "140/140 - 0s - loss: 0.0156 - val_loss: 0.0157 - 388ms/epoch - 3ms/step\n",
            "Epoch 76/150\n",
            "140/140 - 0s - loss: 0.0154 - val_loss: 0.0158 - 400ms/epoch - 3ms/step\n",
            "Epoch 77/150\n",
            "140/140 - 0s - loss: 0.0154 - val_loss: 0.0159 - 388ms/epoch - 3ms/step\n",
            "Epoch 78/150\n",
            "140/140 - 0s - loss: 0.0153 - val_loss: 0.0159 - 383ms/epoch - 3ms/step\n",
            "Epoch 79/150\n",
            "140/140 - 0s - loss: 0.0151 - val_loss: 0.0159 - 440ms/epoch - 3ms/step\n",
            "Epoch 80/150\n",
            "140/140 - 0s - loss: 0.0147 - val_loss: 0.0161 - 459ms/epoch - 3ms/step\n",
            "Epoch 81/150\n",
            "140/140 - 0s - loss: 0.0147 - val_loss: 0.0163 - 478ms/epoch - 3ms/step\n",
            "Epoch 82/150\n",
            "140/140 - 0s - loss: 0.0145 - val_loss: 0.0162 - 400ms/epoch - 3ms/step\n",
            "Epoch 83/150\n",
            "140/140 - 0s - loss: 0.0143 - val_loss: 0.0159 - 416ms/epoch - 3ms/step\n",
            "Epoch 84/150\n",
            "140/140 - 0s - loss: 0.0142 - val_loss: 0.0156 - 411ms/epoch - 3ms/step\n",
            "Epoch 85/150\n",
            "140/140 - 0s - loss: 0.0142 - val_loss: 0.0157 - 414ms/epoch - 3ms/step\n",
            "Epoch 86/150\n",
            "140/140 - 0s - loss: 0.0141 - val_loss: 0.0157 - 440ms/epoch - 3ms/step\n",
            "Epoch 87/150\n",
            "140/140 - 0s - loss: 0.0138 - val_loss: 0.0154 - 387ms/epoch - 3ms/step\n",
            "Epoch 88/150\n",
            "140/140 - 0s - loss: 0.0138 - val_loss: 0.0154 - 426ms/epoch - 3ms/step\n",
            "Epoch 89/150\n",
            "140/140 - 0s - loss: 0.0136 - val_loss: 0.0152 - 414ms/epoch - 3ms/step\n",
            "Epoch 90/150\n",
            "140/140 - 0s - loss: 0.0136 - val_loss: 0.0151 - 382ms/epoch - 3ms/step\n",
            "Epoch 91/150\n",
            "140/140 - 0s - loss: 0.0134 - val_loss: 0.0149 - 398ms/epoch - 3ms/step\n",
            "Epoch 92/150\n",
            "140/140 - 0s - loss: 0.0135 - val_loss: 0.0152 - 391ms/epoch - 3ms/step\n",
            "Epoch 93/150\n",
            "140/140 - 0s - loss: 0.0132 - val_loss: 0.0145 - 402ms/epoch - 3ms/step\n",
            "Epoch 94/150\n",
            "140/140 - 0s - loss: 0.0132 - val_loss: 0.0148 - 400ms/epoch - 3ms/step\n",
            "Epoch 95/150\n",
            "140/140 - 0s - loss: 0.0129 - val_loss: 0.0141 - 388ms/epoch - 3ms/step\n",
            "Epoch 96/150\n",
            "140/140 - 0s - loss: 0.0129 - val_loss: 0.0140 - 425ms/epoch - 3ms/step\n",
            "Epoch 97/150\n",
            "140/140 - 0s - loss: 0.0128 - val_loss: 0.0132 - 418ms/epoch - 3ms/step\n",
            "Epoch 98/150\n",
            "140/140 - 0s - loss: 0.0127 - val_loss: 0.0128 - 412ms/epoch - 3ms/step\n",
            "Epoch 99/150\n",
            "140/140 - 0s - loss: 0.0125 - val_loss: 0.0124 - 407ms/epoch - 3ms/step\n",
            "Epoch 100/150\n",
            "140/140 - 0s - loss: 0.0126 - val_loss: 0.0126 - 422ms/epoch - 3ms/step\n",
            "Epoch 101/150\n",
            "140/140 - 0s - loss: 0.0124 - val_loss: 0.0123 - 405ms/epoch - 3ms/step\n",
            "Epoch 102/150\n",
            "140/140 - 0s - loss: 0.0124 - val_loss: 0.0124 - 375ms/epoch - 3ms/step\n",
            "Epoch 103/150\n",
            "140/140 - 0s - loss: 0.0123 - val_loss: 0.0123 - 395ms/epoch - 3ms/step\n",
            "Epoch 104/150\n",
            "140/140 - 0s - loss: 0.0122 - val_loss: 0.0121 - 413ms/epoch - 3ms/step\n",
            "Epoch 105/150\n",
            "140/140 - 0s - loss: 0.0120 - val_loss: 0.0116 - 418ms/epoch - 3ms/step\n",
            "Epoch 106/150\n",
            "140/140 - 0s - loss: 0.0119 - val_loss: 0.0116 - 422ms/epoch - 3ms/step\n",
            "Epoch 107/150\n",
            "140/140 - 0s - loss: 0.0118 - val_loss: 0.0116 - 400ms/epoch - 3ms/step\n",
            "Epoch 108/150\n",
            "140/140 - 0s - loss: 0.0118 - val_loss: 0.0115 - 436ms/epoch - 3ms/step\n",
            "Epoch 109/150\n",
            "140/140 - 0s - loss: 0.0117 - val_loss: 0.0116 - 391ms/epoch - 3ms/step\n",
            "Epoch 110/150\n",
            "140/140 - 0s - loss: 0.0116 - val_loss: 0.0114 - 388ms/epoch - 3ms/step\n",
            "Epoch 111/150\n",
            "140/140 - 0s - loss: 0.0115 - val_loss: 0.0114 - 425ms/epoch - 3ms/step\n",
            "Epoch 112/150\n",
            "140/140 - 0s - loss: 0.0113 - val_loss: 0.0114 - 412ms/epoch - 3ms/step\n",
            "Epoch 113/150\n",
            "140/140 - 0s - loss: 0.0112 - val_loss: 0.0113 - 409ms/epoch - 3ms/step\n",
            "Epoch 114/150\n",
            "140/140 - 0s - loss: 0.0112 - val_loss: 0.0112 - 377ms/epoch - 3ms/step\n",
            "Epoch 115/150\n",
            "140/140 - 0s - loss: 0.0111 - val_loss: 0.0110 - 423ms/epoch - 3ms/step\n",
            "Epoch 116/150\n",
            "140/140 - 0s - loss: 0.0112 - val_loss: 0.0109 - 464ms/epoch - 3ms/step\n",
            "Epoch 117/150\n",
            "140/140 - 0s - loss: 0.0111 - val_loss: 0.0109 - 431ms/epoch - 3ms/step\n",
            "Epoch 118/150\n",
            "140/140 - 0s - loss: 0.0110 - val_loss: 0.0109 - 422ms/epoch - 3ms/step\n",
            "Epoch 119/150\n",
            "140/140 - 0s - loss: 0.0108 - val_loss: 0.0109 - 454ms/epoch - 3ms/step\n",
            "Epoch 120/150\n",
            "140/140 - 0s - loss: 0.0106 - val_loss: 0.0108 - 428ms/epoch - 3ms/step\n",
            "Epoch 121/150\n",
            "140/140 - 0s - loss: 0.0105 - val_loss: 0.0108 - 396ms/epoch - 3ms/step\n",
            "Epoch 122/150\n",
            "140/140 - 0s - loss: 0.0103 - val_loss: 0.0108 - 413ms/epoch - 3ms/step\n",
            "Epoch 123/150\n",
            "140/140 - 0s - loss: 0.0103 - val_loss: 0.0108 - 414ms/epoch - 3ms/step\n",
            "Epoch 124/150\n",
            "140/140 - 0s - loss: 0.0102 - val_loss: 0.0109 - 446ms/epoch - 3ms/step\n",
            "Epoch 125/150\n",
            "140/140 - 0s - loss: 0.0102 - val_loss: 0.0110 - 419ms/epoch - 3ms/step\n",
            "Epoch 126/150\n",
            "140/140 - 0s - loss: 0.0099 - val_loss: 0.0108 - 410ms/epoch - 3ms/step\n",
            "Epoch 127/150\n",
            "140/140 - 0s - loss: 0.0099 - val_loss: 0.0108 - 440ms/epoch - 3ms/step\n",
            "Epoch 128/150\n",
            "140/140 - 0s - loss: 0.0098 - val_loss: 0.0108 - 411ms/epoch - 3ms/step\n",
            "Epoch 129/150\n",
            "140/140 - 0s - loss: 0.0097 - val_loss: 0.0109 - 409ms/epoch - 3ms/step\n",
            "Epoch 130/150\n",
            "140/140 - 0s - loss: 0.0097 - val_loss: 0.0109 - 425ms/epoch - 3ms/step\n",
            "Epoch 131/150\n",
            "140/140 - 0s - loss: 0.0098 - val_loss: 0.0109 - 391ms/epoch - 3ms/step\n",
            "Epoch 132/150\n",
            "140/140 - 0s - loss: 0.0097 - val_loss: 0.0109 - 425ms/epoch - 3ms/step\n",
            "Epoch 133/150\n",
            "140/140 - 0s - loss: 0.0098 - val_loss: 0.0109 - 381ms/epoch - 3ms/step\n",
            "Epoch 134/150\n",
            "140/140 - 0s - loss: 0.0098 - val_loss: 0.0109 - 431ms/epoch - 3ms/step\n",
            "Epoch 135/150\n",
            "140/140 - 0s - loss: 0.0098 - val_loss: 0.0108 - 428ms/epoch - 3ms/step\n",
            "Epoch 136/150\n",
            "140/140 - 0s - loss: 0.0098 - val_loss: 0.0109 - 392ms/epoch - 3ms/step\n",
            "Epoch 137/150\n",
            "140/140 - 0s - loss: 0.0098 - val_loss: 0.0109 - 407ms/epoch - 3ms/step\n",
            "Epoch 138/150\n",
            "140/140 - 0s - loss: 0.0098 - val_loss: 0.0107 - 388ms/epoch - 3ms/step\n",
            "Epoch 139/150\n",
            "140/140 - 0s - loss: 0.0098 - val_loss: 0.0108 - 388ms/epoch - 3ms/step\n",
            "Epoch 140/150\n",
            "140/140 - 0s - loss: 0.0099 - val_loss: 0.0109 - 419ms/epoch - 3ms/step\n",
            "Epoch 141/150\n",
            "140/140 - 0s - loss: 0.0098 - val_loss: 0.0109 - 386ms/epoch - 3ms/step\n",
            "Epoch 142/150\n",
            "140/140 - 0s - loss: 0.0099 - val_loss: 0.0109 - 400ms/epoch - 3ms/step\n",
            "Epoch 143/150\n",
            "140/140 - 0s - loss: 0.0098 - val_loss: 0.0109 - 402ms/epoch - 3ms/step\n",
            "Epoch 144/150\n",
            "140/140 - 0s - loss: 0.0099 - val_loss: 0.0108 - 421ms/epoch - 3ms/step\n",
            "Epoch 145/150\n",
            "140/140 - 0s - loss: 0.0099 - val_loss: 0.0108 - 467ms/epoch - 3ms/step\n",
            "Epoch 146/150\n",
            "140/140 - 0s - loss: 0.0099 - val_loss: 0.0109 - 403ms/epoch - 3ms/step\n",
            "Epoch 147/150\n",
            "140/140 - 0s - loss: 0.0098 - val_loss: 0.0109 - 400ms/epoch - 3ms/step\n",
            "Epoch 148/150\n",
            "140/140 - 0s - loss: 0.0099 - val_loss: 0.0109 - 389ms/epoch - 3ms/step\n",
            "Epoch 149/150\n",
            "140/140 - 0s - loss: 0.0099 - val_loss: 0.0109 - 390ms/epoch - 3ms/step\n",
            "Epoch 150/150\n",
            "140/140 - 0s - loss: 0.0099 - val_loss: 0.0108 - 420ms/epoch - 3ms/step\n"
          ]
        }
      ]
    },
    {
      "cell_type": "code",
      "source": [
        "model.summary()"
      ],
      "metadata": {
        "colab": {
          "base_uri": "https://localhost:8080/"
        },
        "id": "cfkjmqMpF89F",
        "outputId": "6aa8b9cf-a1aa-42a6-bc56-c69446944298"
      },
      "execution_count": null,
      "outputs": [
        {
          "output_type": "stream",
          "name": "stdout",
          "text": [
            "Model: \"sequential_1\"\n",
            "_________________________________________________________________\n",
            " Layer (type)                Output Shape              Param #   \n",
            "=================================================================\n",
            " lstm_1 (LSTM)               (None, 50)                10800     \n",
            "                                                                 \n",
            " dense_1 (Dense)             (None, 1)                 51        \n",
            "                                                                 \n",
            "=================================================================\n",
            "Total params: 10,851\n",
            "Trainable params: 10,851\n",
            "Non-trainable params: 0\n",
            "_________________________________________________________________\n"
          ]
        }
      ]
    },
    {
      "cell_type": "code",
      "source": [
        "pyplot.plot(history.history['loss'], label='train')\n",
        "pyplot.plot(history.history['val_loss'], label='test')\n",
        "pyplot.legend()\n",
        "pyplot.show()"
      ],
      "metadata": {
        "colab": {
          "base_uri": "https://localhost:8080/",
          "height": 265
        },
        "id": "17XW6D_xR8Ef",
        "outputId": "231bd1fb-1df3-49f1-914e-6e5fcc4c0c22"
      },
      "execution_count": null,
      "outputs": [
        {
          "output_type": "display_data",
          "data": {
            "image/png": "[encoded data removed]",
            "text/plain": [
              "<Figure size 432x288 with 1 Axes>"
            ]
          },
          "metadata": {
            "needs_background": "light"
          }
        }
      ]
    },
    {
      "cell_type": "markdown",
      "source": [
        "Inverting from scaled to actual values"
      ],
      "metadata": {
        "id": "eGLJbydTg9r2"
      }
    },
    {
      "cell_type": "code",
      "source": [
        "minclose = min(df1['close'])\n",
        "maxclose = max(df1['close'])\n",
        "def get_actual(scaled, min, max):\n",
        "  return min + scaled*(max-min)"
      ],
      "metadata": {
        "id": "iTmjRXHZXzDj"
      },
      "execution_count": null,
      "outputs": []
    },
    {
      "cell_type": "markdown",
      "source": [
        "Results"
      ],
      "metadata": {
        "id": "oFvK1ChSovCu"
      }
    },
    {
      "cell_type": "code",
      "source": [
        "yhat = model.predict(test_X)"
      ],
      "metadata": {
        "id": "FcQLbq5_VjEO"
      },
      "execution_count": null,
      "outputs": []
    },
    {
      "cell_type": "code",
      "source": [
        "actuals_pred = get_actual(yhat, minclose, maxclose)\n",
        "actuals_true = get_actual(test_y, minclose, maxclose)\n",
        "rmse = sqrt(mean_squared_error(actuals_true, actuals_pred))\n",
        "print('Test RMSE: %.3f' % rmse)\n",
        "mae = mean_absolute_error(actuals_true, actuals_pred)\n",
        "print('Test MAE: %.3f' % mae)"
      ],
      "metadata": {
        "colab": {
          "base_uri": "https://localhost:8080/"
        },
        "id": "7Ek6pmsS8Kv_",
        "outputId": "685d138f-4d3e-4717-a0ff-bd240fe85ede"
      },
      "execution_count": null,
      "outputs": [
        {
          "output_type": "stream",
          "name": "stdout",
          "text": [
            "Test RMSE: 2.410\n",
            "Test MAE: 1.743\n"
          ]
        }
      ]
    },
    {
      "cell_type": "code",
      "source": [
        "test_dates=np.array(df2.index)[train_size:len(y)]\n",
        "fig, ax = plt.subplots(1)\n",
        "ax.plot(pd.to_datetime(test_dates[:100]).to_pydatetime(),actuals_pred[:100],label=\"predicted\")\n",
        "ax.plot(pd.to_datetime(test_dates[:100]).to_pydatetime(),actuals_true[:100], label=\"Actual\")\n",
        "fig.autofmt_xdate()\n",
        "import matplotlib.dates as mdates\n",
        "ax.fmt_xdata = mdates.DateFormatter('%Y-%m-%d')\n",
        "plt.title('Predicted vs Actual Price of IBM stock')\n",
        "plt.legend(bbox_to_anchor=(1.05, 1), loc=2, borderaxespad=0.)\n",
        "plt.show()"
      ],
      "metadata": {
        "colab": {
          "base_uri": "https://localhost:8080/",
          "height": 279
        },
        "id": "uXBWZMqk8c9x",
        "outputId": "f69f7d74-52ed-4a2e-d739-44c4c15ca018"
      },
      "execution_count": null,
      "outputs": [
        {
          "output_type": "display_data",
          "data": {
            "image/png": "[encoded data removed]",
            "text/plain": [
              "<Figure size 432x288 with 1 Axes>"
            ]
          },
          "metadata": {
            "needs_background": "light"
          }
        }
      ]
    },
    {
      "cell_type": "code",
      "source": [
        "input_full = np.array(df2[['closescaled', 'OBVscaled','RSI']])[1:]\n",
        "input_full = input_full.reshape((input_full.shape[0], 1, input_full.shape[1]))"
      ],
      "metadata": {
        "id": "LlEWxqqyDhnB"
      },
      "execution_count": null,
      "outputs": []
    },
    {
      "cell_type": "code",
      "source": [
        "full_predicted = model.predict([input_full])"
      ],
      "metadata": {
        "id": "eQ9O6zzi8dAp"
      },
      "execution_count": null,
      "outputs": []
    },
    {
      "cell_type": "code",
      "source": [
        "full_pred_inv = get_actual(full_predicted, minclose, maxclose)\n",
        "full_true_inv = get_actual(y[1:], minclose, maxclose)"
      ],
      "metadata": {
        "id": "oRF_Ia0SF86z"
      },
      "execution_count": null,
      "outputs": []
    },
    {
      "cell_type": "code",
      "source": [
        "model.save('finalmodelnew')"
      ],
      "metadata": {
        "id": "ZESeh1jthDXa"
      },
      "execution_count": null,
      "outputs": []
    },
    {
      "cell_type": "code",
      "source": [
        "import tensorflow as tf\n",
        "model3 = tf.keras.models.load_model('finalmodelnew')"
      ],
      "metadata": {
        "id": "aPXh8S85hDZm"
      },
      "execution_count": null,
      "outputs": []
    },
    {
      "cell_type": "code",
      "source": [
        "!zip -r /content/finalmodelnewzip.zip /content/finalmodelnew"
      ],
      "metadata": {
        "id": "fS6kuiDAiIC1"
      },
      "execution_count": null,
      "outputs": []
    }
  ]
}